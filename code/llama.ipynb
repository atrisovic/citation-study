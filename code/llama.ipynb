{
 "cells": [
  {
   "cell_type": "code",
   "execution_count": 3,
   "id": "245d033c",
   "metadata": {},
   "outputs": [],
   "source": [
    "import requests\n",
    "import os\n",
    "import re\n",
    "import json"
   ]
  },
  {
   "cell_type": "code",
   "execution_count": 2,
   "id": "7a27af11-82ee-442b-a45d-b6c55c5b26bf",
   "metadata": {
    "tags": []
   },
   "outputs": [],
   "source": [
    "url = \"http://localhost:11434/api/generate\"\n",
    "\n",
    "questions = \"\"\"\n",
    "1 Does this paper mention eny ethical considerations?\n",
    "2 Does this paper mention any limitations on hallucinations?\n",
    "2 Does this paper mention any political considerations?\n",
    "\"\"\""
   ]
  },
  {
   "cell_type": "markdown",
   "id": "1f36a1e0-71bc-49b0-b780-4a62b7cc96c2",
   "metadata": {},
   "source": [
    "## Read in papers"
   ]
  },
  {
   "cell_type": "code",
   "execution_count": 4,
   "id": "e84c33a8",
   "metadata": {},
   "outputs": [
    {
     "name": "stderr",
     "output_type": "stream",
     "text": [
      "<>:1: SyntaxWarning: invalid escape sequence '\\S'\n",
      "<>:1: SyntaxWarning: invalid escape sequence '\\S'\n",
      "/var/folders/lc/q1l1y0k176b0h_m5yz0s_r5w0000gn/T/ipykernel_25982/2351660466.py:1: SyntaxWarning: invalid escape sequence '\\S'\n",
      "  paper = \"We consider several ethical aspects while designing and deploying \\Space. First, we take several actions to minimize potential harm due to misusing semi-synthetic datasets to derive conclusions and inferences about causal effects in real data: we (1) anonymize variable names in {\\tt SpaceDataset}, (2) issue warning statements clarifying limitations when users import the Python package, and (3) emphasize the synthetic nature the data in the description of each environment in a data repository where they are available publicly. Second, to increase transparency and reproducibility, we provide detailed instructions for full reproducibility, including publicly available and accessible code. Third, while our work does not directly address concerns about fairness and societal biases, our data collections integrate sources commonly used in studies of social vulnerability and health equity, driving  methodology improvement for social good. \"\n"
     ]
    }
   ],
   "source": [
    "paper = \"We consider several ethical aspects while designing and deploying \\Space. First, we take several actions to minimize potential harm due to misusing semi-synthetic datasets to derive conclusions and inferences about causal effects in real data: we (1) anonymize variable names in {\\tt SpaceDataset}, (2) issue warning statements clarifying limitations when users import the Python package, and (3) emphasize the synthetic nature the data in the description of each environment in a data repository where they are available publicly. Second, to increase transparency and reproducibility, we provide detailed instructions for full reproducibility, including publicly available and accessible code. Third, while our work does not directly address concerns about fairness and societal biases, our data collections integrate sources commonly used in studies of social vulnerability and health equity, driving  methodology improvement for social good. \""
   ]
  },
  {
   "cell_type": "code",
   "execution_count": 5,
   "id": "5b872d3c",
   "metadata": {},
   "outputs": [],
   "source": [
    "prompt_input = f\"This is the text input: \\n{paper}\\n These are the questions {questions}\\n\"+ \\\n",
    "            \"Answer each question with T or F.\"\n",
    "\n",
    "data = {\n",
    "    \"model\": \"llama2\",\n",
    "    \"prompt\": prompt_input\n",
    "}\n",
    "\n",
    "# get answer\n",
    "response = requests.post(url, json=data)\n",
    "\n",
    "# parse answer\n",
    "block = response.text\n",
    "lines = block.strip().split('\\n')\n",
    "responses = []\n",
    "\n",
    "for line in lines:\n",
    "    data = json.loads(line)\n",
    "    if 'response' in data.keys():\n",
    "        #print(data['response'])\n",
    "        responses.append(data[\"response\"])\n",
    "\n",
    "# complete answer:\n",
    "result = \"\".join(responses)"
   ]
  },
  {
   "cell_type": "code",
   "execution_count": 7,
   "id": "7ee39dcc",
   "metadata": {},
   "outputs": [
    {
     "name": "stdout",
     "output_type": "stream",
     "text": [
      "\n",
      "1. Does this paper mention any ethical considerations? - T\n",
      "2. Does this paper mention any limitations on hallucinations? - F (There is no mention of hallucinations in the text.)\n",
      "3. Does this paper mention any political considerations? - N (There is no mention of political considerations in the text.)\n"
     ]
    }
   ],
   "source": [
    "print(result)"
   ]
  },
  {
   "cell_type": "code",
   "execution_count": 6,
   "id": "a73188de-ee61-42af-8751-554ebb9072b6",
   "metadata": {
    "tags": []
   },
   "outputs": [],
   "source": [
    "# for filename in file_list[:30]:\n",
    "#     file_path = os.path.join(folder_path, filename)\n",
    "    \n",
    "#     if os.path.isfile(file_path):\n",
    "#         file_results = {}\n",
    "\n",
    "#         with open(file_path, 'r') as f:\n",
    "#             contents = f.read()\n",
    "            \n",
    "#             input = json.loads(contents)[\"data\"][\"items\"]\n",
    "\n",
    "#             prompt_input = f\"This is the text input: \\n{input}\\n These are the questions {questions_v1}\\n\"+ \\\n",
    "#             \"Answer each question with T or F.\"\n",
    "\n",
    "#             data = {\n",
    "#                 \"model\": \"llama2\",\n",
    "#                 \"prompt\": prompt_input\n",
    "#             }\n",
    "\n",
    "#             # get answer\n",
    "#             response = requests.post(url, json=data)\n",
    "\n",
    "#             # parse answer\n",
    "#             block = response.text\n",
    "#             lines = block.strip().split('\\n')\n",
    "#             responses = []\n",
    "\n",
    "#             for line in lines:\n",
    "#                 data = json.loads(line)\n",
    "#                 if 'response' in data.keys():\n",
    "#                     #print(data['response'])\n",
    "#                     responses.append(data[\"response\"])\n",
    "\n",
    "#             # complete answer:\n",
    "#             result = \"\".join(responses)\n",
    "\n",
    "#         text_results[filename] = result\n",
    "            "
   ]
  },
  {
   "cell_type": "markdown",
   "id": "c1b22572",
   "metadata": {},
   "source": [
    "## Save text results"
   ]
  },
  {
   "cell_type": "code",
   "execution_count": 7,
   "id": "79c0007b",
   "metadata": {},
   "outputs": [],
   "source": [
    "# json.dump(text_results, open(\"./data/evaluation/ollama_text_results.yaml\", \"w\"), indent=2)"
   ]
  },
  {
   "cell_type": "code",
   "execution_count": null,
   "id": "93a2fe00",
   "metadata": {},
   "outputs": [],
   "source": []
  }
 ],
 "metadata": {
  "kernelspec": {
   "display_name": "Python 3 (ipykernel)",
   "language": "python",
   "name": "python3"
  },
  "language_info": {
   "codemirror_mode": {
    "name": "ipython",
    "version": 3
   },
   "file_extension": ".py",
   "mimetype": "text/x-python",
   "name": "python",
   "nbconvert_exporter": "python",
   "pygments_lexer": "ipython3",
   "version": "3.12.0"
  }
 },
 "nbformat": 4,
 "nbformat_minor": 5
}
