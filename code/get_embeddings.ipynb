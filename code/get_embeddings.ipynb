{
 "cells": [
  {
   "cell_type": "code",
   "execution_count": 2,
   "metadata": {},
   "outputs": [],
   "source": [
    "import json\n",
    "import requests\n",
    "\n",
    "with open(\"../data/121_results_v2.json\") as file:\n",
    "    data = json.load(file)"
   ]
  },
  {
   "cell_type": "code",
   "execution_count": 11,
   "metadata": {},
   "outputs": [],
   "source": [
    "import time\n",
    "data_keys = list(data.keys())\n",
    "\n",
    "result = {}\n",
    "\n",
    "for key in data_keys:\n",
    "    paperId = data[key][\"paperId\"]\n",
    "\n",
    "    try:\n",
    "        response = requests.get(\n",
    "            f\"https://api.semanticscholar.org/graph/v1/paper/{paperId}?fields=paperId,embedding.specter_v1,embedding.specter_v2\"\n",
    "        ) \n",
    "        output = response.json()\n",
    "        result[key] = output\n",
    "        time.sleep(2)\n",
    "    except Exception as err:\n",
    "        print(err)\n",
    "\n",
    "with open(\"../data/121_results_v2_specter.json\", \"w\") as file:\n",
    "    json.dump(result, file, indent=4)"
   ]
  },
  {
   "cell_type": "code",
   "execution_count": null,
   "metadata": {},
   "outputs": [],
   "source": []
  }
 ],
 "metadata": {
  "kernelspec": {
   "display_name": "Python 3",
   "language": "python",
   "name": "python3"
  },
  "language_info": {
   "codemirror_mode": {
    "name": "ipython",
    "version": 3
   },
   "file_extension": ".py",
   "mimetype": "text/x-python",
   "name": "python",
   "nbconvert_exporter": "python",
   "pygments_lexer": "ipython3",
   "version": "3.11.8"
  }
 },
 "nbformat": 4,
 "nbformat_minor": 2
}
